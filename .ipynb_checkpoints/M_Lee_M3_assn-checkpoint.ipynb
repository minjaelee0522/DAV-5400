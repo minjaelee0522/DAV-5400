{
 "cells": [
  {
   "cell_type": "code",
   "execution_count": 1,
   "id": "8d885bf2",
   "metadata": {},
   "outputs": [],
   "source": [
    "import pandas as pd\n",
    "import numpy as np"
   ]
  },
  {
   "cell_type": "markdown",
   "id": "21fe5ecd",
   "metadata": {},
   "source": [
    "# Question 1"
   ]
  },
  {
   "cell_type": "markdown",
   "id": "75f65017",
   "metadata": {},
   "source": [
    "Write a Python/NumPy code block that finds the distinct array items that exist in either array a or array b but which do not appear within both arrays:\n",
    "a = np.array([1, 2, 3, 2, 3, 4, 3, 4, 5, 6]) \n",
    "b = np.array([7, 2, 10, 2, 7, 4, 9, 4, 9, 8])\n",
    "For example, if a 2 is found in both array a and array b, your output should not include a 2. Furthermore, the content of the output should be comprised solely of unique data values."
   ]
  },
  {
   "cell_type": "code",
   "execution_count": 2,
   "id": "aaa82f04",
   "metadata": {},
   "outputs": [],
   "source": [
    "a = np.array([1, 2, 3, 2, 3, 4, 3, 4, 5, 6]) \n",
    "b = np.array([7, 2, 10, 2, 7, 4, 9, 4, 9, 8])"
   ]
  },
  {
   "cell_type": "code",
   "execution_count": 3,
   "id": "fe24ec2c",
   "metadata": {},
   "outputs": [
    {
     "name": "stdout",
     "output_type": "stream",
     "text": [
      "[ 1  3  5  6  7  8  9 10]\n"
     ]
    }
   ],
   "source": [
    "# Use the union1d method to find the unique elements in either array a or array b\n",
    "unique_elements = np.union1d(a, b)\n",
    "\n",
    "# Use the in1d method to find the elements that exist in both arrays\n",
    "duplicate_elements = np.intersect1d(a, b)\n",
    "\n",
    "# Use the setdiff1d method to find the unique elements in unique_elements that are not in duplicate_elements\n",
    "result1 = np.setdiff1d(unique_elements, duplicate_elements)\n",
    "\n",
    "print(result1)"
   ]
  },
  {
   "cell_type": "markdown",
   "id": "2b58fa33",
   "metadata": {},
   "source": [
    "# Questions 2"
   ]
  },
  {
   "cell_type": "code",
   "execution_count": 4,
   "id": "1fc76a5f",
   "metadata": {},
   "outputs": [
    {
     "data": {
      "text/plain": [
       "array([[ 1,  5,  9, 13, 17],\n",
       "       [ 2,  6, 10, 14, 18],\n",
       "       [ 3,  7, 11, 15, 19],\n",
       "       [ 4,  8, 12, 16, 20]])"
      ]
     },
     "execution_count": 4,
     "metadata": {},
     "output_type": "execute_result"
    }
   ],
   "source": [
    "# set array from 1,2,3,4 and reshape as vertical array. \n",
    "start = np.arange(1,5).reshape(4, 1)\n",
    "# start stores in result2\n",
    "result2 = start\n",
    "# make each vertical array and stack \n",
    "for i in range(1, 5):\n",
    "    result2 = np.hstack((result2, start + 4 * i))\n",
    "    \n",
    "result2"
   ]
  },
  {
   "cell_type": "markdown",
   "id": "42dfcb73",
   "metadata": {},
   "source": [
    "- First, reshape the [1, 2, 3, 4] array vertically to the start array. Then, after creating an empty array called result2, start array + 4 * i arrays are stacked one by one."
   ]
  },
  {
   "cell_type": "markdown",
   "id": "5937454b",
   "metadata": {},
   "source": [
    "# Quetions 3"
   ]
  },
  {
   "cell_type": "code",
   "execution_count": 5,
   "id": "5eedae76",
   "metadata": {},
   "outputs": [
    {
     "data": {
      "text/plain": [
       "array([12,  5,  7, 15,  3,  1,  8,  4,  6, 11, 14, 19])"
      ]
     },
     "execution_count": 5,
     "metadata": {},
     "output_type": "execute_result"
    }
   ],
   "source": [
    "a = np.array([12, 5, 7, 15, 3, 1, 8])\n",
    "b = np.array([14, 6, 3, 11, 19, 12, 5, 3, 4])\n",
    "\n",
    "c = np.setdiff1d(b, a)\n",
    "a = np.concatenate((a, c))\n",
    "\n",
    "a"
   ]
  },
  {
   "cell_type": "markdown",
   "id": "0802146b",
   "metadata": {},
   "source": [
    "- can use the Numpy library's Setdiff1d function to get the items in b that are not in a, and then use Numpy's Concatenate function to add these items to a:"
   ]
  },
  {
   "cell_type": "markdown",
   "id": "c47946d4",
   "metadata": {},
   "source": [
    "# Question 4"
   ]
  },
  {
   "cell_type": "code",
   "execution_count": 6,
   "id": "d61f3ada",
   "metadata": {},
   "outputs": [
    {
     "data": {
      "text/plain": [
       "array([ 1,  5,  9, 13, 17,  2,  6, 10, 14, 18,  3,  7, 11, 15, 19,  4,  8,\n",
       "       12, 16, 20])"
      ]
     },
     "execution_count": 6,
     "metadata": {},
     "output_type": "execute_result"
    }
   ],
   "source": [
    "flattened_array = result2.ravel()\n",
    "flattened_array"
   ]
  },
  {
   "cell_type": "markdown",
   "id": "66db0e76",
   "metadata": {},
   "source": [
    "- can use the Numpy library's Ravel function to flatten the array"
   ]
  },
  {
   "cell_type": "markdown",
   "id": "ba41b5d0",
   "metadata": {},
   "source": [
    "# Question 5"
   ]
  },
  {
   "cell_type": "code",
   "execution_count": 7,
   "id": "944c93dc",
   "metadata": {},
   "outputs": [
    {
     "data": {
      "text/plain": [
       "numpy.ndarray"
      ]
     },
     "execution_count": 7,
     "metadata": {},
     "output_type": "execute_result"
    }
   ],
   "source": [
    "# suppress scientific notation np.set_printoptions(suppress = True)\n",
    "# read the data file from GitHub and convert to a NumPy ndarray object\n",
    "# be sure to replace the ‘link_to_raw_copy of data file in your Github Repository’ placeholder shown below # with a link to the “raw” version of the file you pushed to your online GitHub repository\n",
    "nyc_water = pd.read_csv('https://raw.githubusercontent.com/minjaelee0522/DAV-5400/main/M3/M3_Data.csv').to_numpy()\n",
    "# verify you have an ndarray object\n",
    "type(nyc_water)"
   ]
  },
  {
   "cell_type": "markdown",
   "id": "3b79ccc8",
   "metadata": {},
   "source": [
    "- Question 5.1 Which year had the maximum per capita daily water consumption?"
   ]
  },
  {
   "cell_type": "code",
   "execution_count": 8,
   "id": "2a352da4",
   "metadata": {},
   "outputs": [
    {
     "name": "stdout",
     "output_type": "stream",
     "text": [
      "Year with maximum per capita daily water consumption: 1979\n"
     ]
    }
   ],
   "source": [
    "# Get the index of the year with the maximum per capita daily water consumption\n",
    "max_index = np.argmax(nyc_water[:, 3])\n",
    "\n",
    "# Get the year with the maximum per capita daily water consumption\n",
    "max_year = int(nyc_water[max_index, 0])\n",
    "\n",
    "print(\"Year with maximum per capita daily water consumption:\", max_year)"
   ]
  },
  {
   "cell_type": "markdown",
   "id": "671db725",
   "metadata": {},
   "source": [
    "- Question 5.2 Add a new column to the Numpy array containing the annual change in the population of the city from year to year. (HINT: Your new column should include the calculation of a data value for every year represented within the data set except for the first year, which should contain a data value of ‘N/A’)."
   ]
  },
  {
   "cell_type": "code",
   "execution_count": 9,
   "id": "0eff5e79",
   "metadata": {},
   "outputs": [
    {
     "name": "stderr",
     "output_type": "stream",
     "text": [
      "/var/folders/gl/hkj_86357f7cty4knl92kz6h0000gn/T/ipykernel_87652/453267880.py:2: DeprecationWarning: `np.int` is a deprecated alias for the builtin `int`. To silence this warning, use `int` by itself. Doing this will not modify any behavior and is safe. When replacing `np.int`, you may wish to use e.g. `np.int64` or `np.int32` to specify the precision. If you wish to review your current use, check the release note link for additional information.\n",
      "Deprecated in NumPy 1.20; for more details and guidance: https://numpy.org/devdocs/release/1.20.0-notes.html#deprecations\n",
      "  annual_change = np.zeros(nyc_water.shape[0], dtype=np.int)\n"
     ]
    },
    {
     "data": {
      "text/plain": [
       "array([[ 1.9790000e+03,  7.1021000e+06,  1.5120000e+03,  2.1300000e+02,\n",
       "         0.0000000e+00],\n",
       "       [ 1.9800000e+03,  7.0716390e+06,  1.5060000e+03,  2.1300000e+02,\n",
       "        -3.0461000e+04],\n",
       "       [ 1.9810000e+03,  7.0892410e+06,  1.3090000e+03,  1.8500000e+02,\n",
       "         1.7602000e+04],\n",
       "       [ 1.9820000e+03,  7.1091050e+06,  1.3820000e+03,  1.9400000e+02,\n",
       "         1.9864000e+04],\n",
       "       [ 1.9830000e+03,  7.1812240e+06,  1.4240000e+03,  1.9800000e+02,\n",
       "         7.2119000e+04],\n",
       "       [ 1.9840000e+03,  7.2345140e+06,  1.4650000e+03,  2.0300000e+02,\n",
       "         5.3290000e+04],\n",
       "       [ 1.9850000e+03,  7.2740540e+06,  1.3260000e+03,  1.8200000e+02,\n",
       "         3.9540000e+04],\n",
       "       [ 1.9860000e+03,  7.3192460e+06,  1.3510000e+03,  1.8500000e+02,\n",
       "         4.5192000e+04],\n",
       "       [ 1.9870000e+03,  7.3424760e+06,  1.4470000e+03,  1.9700000e+02,\n",
       "         2.3230000e+04],\n",
       "       [ 1.9880000e+03,  7.3537190e+06,  1.4840000e+03,  2.0200000e+02,\n",
       "         1.1243000e+04],\n",
       "       [ 1.9890000e+03,  7.3441750e+06,  1.4020000e+03,  1.9100000e+02,\n",
       "        -9.5440000e+03],\n",
       "       [ 1.9900000e+03,  7.3356500e+06,  1.4240000e+03,  1.9400000e+02,\n",
       "        -8.5250000e+03],\n",
       "       [ 1.9910000e+03,  7.3745010e+06,  1.4690000e+03,  1.9900000e+02,\n",
       "         3.8851000e+04],\n",
       "       [ 1.9920000e+03,  7.4289440e+06,  1.3690000e+03,  1.8400000e+02,\n",
       "         5.4443000e+04],\n",
       "       [ 1.9930000e+03,  7.5061660e+06,  1.3685000e+03,  1.8200000e+02,\n",
       "         7.7222000e+04],\n",
       "       [ 1.9940000e+03,  7.5704580e+06,  1.3577000e+03,  1.7900000e+02,\n",
       "         6.4292000e+04],\n",
       "       [ 1.9950000e+03,  7.6330400e+06,  1.3257000e+03,  1.7400000e+02,\n",
       "         6.2582000e+04],\n",
       "       [ 1.9960000e+03,  7.6978120e+06,  1.2979000e+03,  1.6900000e+02,\n",
       "         6.4772000e+04],\n",
       "       [ 1.9970000e+03,  7.7734430e+06,  1.2055000e+03,  1.5500000e+02,\n",
       "         7.5631000e+04],\n",
       "       [ 1.9980000e+03,  7.8582590e+06,  1.2195000e+03,  1.5500000e+02,\n",
       "         8.4816000e+04],\n",
       "       [ 1.9990000e+03,  7.9476600e+06,  1.2372000e+03,  1.5600000e+02,\n",
       "         8.9401000e+04],\n",
       "       [ 2.0000000e+03,  8.0082780e+06,  1.2404000e+03,  1.5500000e+02,\n",
       "         6.0618000e+04],\n",
       "       [ 2.0010000e+03,  8.0249635e+06,  1.1840000e+03,  1.4800000e+02,\n",
       "         1.6685000e+04],\n",
       "       [ 2.0020000e+03,  8.0416490e+06,  1.1356000e+03,  1.4100000e+02,\n",
       "         1.6685000e+04],\n",
       "       [ 2.0030000e+03,  8.0583345e+06,  1.0937000e+03,  1.3600000e+02,\n",
       "         1.6685000e+04],\n",
       "       [ 2.0040000e+03,  8.0750200e+06,  1.0995000e+03,  1.3600000e+02,\n",
       "         1.6685000e+04],\n",
       "       [ 2.0050000e+03,  8.0917055e+06,  1.1380000e+03,  1.4100000e+02,\n",
       "         1.6685000e+04],\n",
       "       [ 2.0060000e+03,  8.1083910e+06,  1.0690000e+03,  1.3200000e+02,\n",
       "         1.6685000e+04],\n",
       "       [ 2.0070000e+03,  8.1250765e+06,  1.1140000e+03,  1.3700000e+02,\n",
       "         1.6685000e+04],\n",
       "       [ 2.0080000e+03,  8.1417620e+06,  1.0980000e+03,  1.3500000e+02,\n",
       "         1.6685000e+04],\n",
       "       [ 2.0090000e+03,  8.1584475e+06,  1.0075000e+03,  1.2300000e+02,\n",
       "         1.6685000e+04],\n",
       "       [ 2.0100000e+03,  8.1751330e+06,  1.0390000e+03,  1.2700000e+02,\n",
       "         1.6685000e+04],\n",
       "       [ 2.0110000e+03,  8.2729630e+06,  1.0210000e+03,  1.2300000e+02,\n",
       "         9.7830000e+04],\n",
       "       [ 2.0120000e+03,  8.3480320e+06,  1.0091000e+03,  1.2100000e+02,\n",
       "         7.5069000e+04],\n",
       "       [ 2.0130000e+03,  8.3987390e+06,  1.0061000e+03,  1.2000000e+02,\n",
       "         5.0707000e+04],\n",
       "       [ 2.0140000e+03,  8.4373870e+06,  9.9600000e+02,  1.1800000e+02,\n",
       "         3.8648000e+04],\n",
       "       [ 2.0150000e+03,  8.4681810e+06,  1.0090000e+03,  1.1900000e+02,\n",
       "         3.0794000e+04],\n",
       "       [ 2.0160000e+03,  8.4759760e+06,  1.0020000e+03,  1.1800000e+02,\n",
       "         7.7950000e+03],\n",
       "       [ 2.0170000e+03,  8.4382710e+06,  9.9020000e+02,  1.1700000e+02,\n",
       "        -3.7705000e+04],\n",
       "       [ 2.0180000e+03,  8.3987480e+06,  1.0075000e+03,  1.2000000e+02,\n",
       "        -3.9523000e+04],\n",
       "       [ 2.0190000e+03,  8.3368170e+06,  9.8740000e+02,  1.1800000e+02,\n",
       "        -6.1931000e+04]])"
      ]
     },
     "execution_count": 9,
     "metadata": {},
     "output_type": "execute_result"
    }
   ],
   "source": [
    "# Add a new column to the array containing the annual change in the population of the city from year to year\n",
    "annual_change = np.zeros(nyc_water.shape[0], dtype=np.int)\n",
    "annual_change[1:] = nyc_water[1:, 1] - nyc_water[:-1, 1]\n",
    "nyc_water = np.column_stack((nyc_water, annual_change))\n",
    "\n",
    "# Replace the first element of the new column with \"N/A\"\n",
    "nyc_water[0, 4] = 0\n",
    "nyc_water"
   ]
  },
  {
   "cell_type": "markdown",
   "id": "db33074a",
   "metadata": {},
   "source": [
    "- Question 5.3 What is the median and variance of the population of the city during the time period represented within the data set?"
   ]
  },
  {
   "cell_type": "code",
   "execution_count": 10,
   "id": "95d2165b",
   "metadata": {},
   "outputs": [
    {
     "name": "stdout",
     "output_type": "stream",
     "text": [
      "Median of the population of the city: 7947660.0\n",
      "Variance of the population of the city: 214014109798.73172\n"
     ]
    }
   ],
   "source": [
    "# Get the population of the city during the time period\n",
    "population = nyc_water[:, 1]\n",
    "\n",
    "# Calculate the median of the population of the city\n",
    "median = np.median(population)\n",
    "\n",
    "# Calculate the variance of the population of the city\n",
    "variance = np.var(population)\n",
    "\n",
    "print(\"Median of the population of the city:\", median)\n",
    "print(\"Variance of the population of the city:\", variance)"
   ]
  },
  {
   "cell_type": "markdown",
   "id": "5bd99d0f",
   "metadata": {},
   "source": [
    "- Question 5.4 What was the average annual change in the population of the city?"
   ]
  },
  {
   "cell_type": "code",
   "execution_count": 11,
   "id": "fc0bb695",
   "metadata": {},
   "outputs": [
    {
     "name": "stdout",
     "output_type": "stream",
     "text": [
      "Average annual change in the population of the city: 30867.925\n"
     ]
    }
   ],
   "source": [
    "# Get the annual change in the population of the city\n",
    "annual_change = nyc_water[1:, 1] - nyc_water[:-1, 1]\n",
    "\n",
    "# Calculate the average annual change in the population of the city\n",
    "average_annual_change = np.mean(annual_change)\n",
    "\n",
    "print(\"Average annual change in the population of the city:\", average_annual_change)"
   ]
  },
  {
   "cell_type": "markdown",
   "id": "5b2ec22d",
   "metadata": {},
   "source": [
    "My Assignment3 github link[https://github.com/minjaelee0522/DAV-5400/tree/main] "
   ]
  }
 ],
 "metadata": {
  "kernelspec": {
   "display_name": "Python 3 (ipykernel)",
   "language": "python",
   "name": "python3"
  },
  "language_info": {
   "codemirror_mode": {
    "name": "ipython",
    "version": 3
   },
   "file_extension": ".py",
   "mimetype": "text/x-python",
   "name": "python",
   "nbconvert_exporter": "python",
   "pygments_lexer": "ipython3",
   "version": "3.9.7"
  }
 },
 "nbformat": 4,
 "nbformat_minor": 5
}
