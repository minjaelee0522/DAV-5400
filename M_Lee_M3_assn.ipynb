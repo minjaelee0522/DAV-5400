{
 "cells": [
  {
   "cell_type": "code",
   "execution_count": 1,
   "id": "88a78299",
   "metadata": {},
   "outputs": [],
   "source": [
    "import pandas as pd\n",
    "import numpy as np"
   ]
  },
  {
   "cell_type": "code",
   "execution_count": 2,
   "id": "091dfb51",
   "metadata": {},
   "outputs": [
    {
     "data": {
      "text/html": [
       "<div>\n",
       "<style scoped>\n",
       "    .dataframe tbody tr th:only-of-type {\n",
       "        vertical-align: middle;\n",
       "    }\n",
       "\n",
       "    .dataframe tbody tr th {\n",
       "        vertical-align: top;\n",
       "    }\n",
       "\n",
       "    .dataframe thead th {\n",
       "        text-align: right;\n",
       "    }\n",
       "</style>\n",
       "<table border=\"1\" class=\"dataframe\">\n",
       "  <thead>\n",
       "    <tr style=\"text-align: right;\">\n",
       "      <th></th>\n",
       "      <th>Year</th>\n",
       "      <th>New York City Population</th>\n",
       "      <th>NYC Consumption(Million gallons per day)</th>\n",
       "      <th>Per Capita(Gallons per person per day)</th>\n",
       "    </tr>\n",
       "  </thead>\n",
       "  <tbody>\n",
       "    <tr>\n",
       "      <th>0</th>\n",
       "      <td>1979</td>\n",
       "      <td>7102100.0</td>\n",
       "      <td>1512.0</td>\n",
       "      <td>213</td>\n",
       "    </tr>\n",
       "    <tr>\n",
       "      <th>1</th>\n",
       "      <td>1980</td>\n",
       "      <td>7071639.0</td>\n",
       "      <td>1506.0</td>\n",
       "      <td>213</td>\n",
       "    </tr>\n",
       "    <tr>\n",
       "      <th>2</th>\n",
       "      <td>1981</td>\n",
       "      <td>7089241.0</td>\n",
       "      <td>1309.0</td>\n",
       "      <td>185</td>\n",
       "    </tr>\n",
       "    <tr>\n",
       "      <th>3</th>\n",
       "      <td>1982</td>\n",
       "      <td>7109105.0</td>\n",
       "      <td>1382.0</td>\n",
       "      <td>194</td>\n",
       "    </tr>\n",
       "    <tr>\n",
       "      <th>4</th>\n",
       "      <td>1983</td>\n",
       "      <td>7181224.0</td>\n",
       "      <td>1424.0</td>\n",
       "      <td>198</td>\n",
       "    </tr>\n",
       "  </tbody>\n",
       "</table>\n",
       "</div>"
      ],
      "text/plain": [
       "   Year  New York City Population  NYC Consumption(Million gallons per day)  \\\n",
       "0  1979                 7102100.0                                    1512.0   \n",
       "1  1980                 7071639.0                                    1506.0   \n",
       "2  1981                 7089241.0                                    1309.0   \n",
       "3  1982                 7109105.0                                    1382.0   \n",
       "4  1983                 7181224.0                                    1424.0   \n",
       "\n",
       "   Per Capita(Gallons per person per day)  \n",
       "0                                     213  \n",
       "1                                     213  \n",
       "2                                     185  \n",
       "3                                     194  \n",
       "4                                     198  "
      ]
     },
     "execution_count": 2,
     "metadata": {},
     "output_type": "execute_result"
    }
   ],
   "source": [
    "df = pd.read_csv(\"./M3_Data.csv\")\n",
    "df.head()"
   ]
  },
  {
   "cell_type": "code",
   "execution_count": 3,
   "id": "d9b54a15",
   "metadata": {},
   "outputs": [
    {
     "data": {
      "text/plain": [
       "(41, 4)"
      ]
     },
     "execution_count": 3,
     "metadata": {},
     "output_type": "execute_result"
    }
   ],
   "source": [
    "df.shape"
   ]
  },
  {
   "cell_type": "markdown",
   "id": "2663b779",
   "metadata": {},
   "source": [
    "# Question 1"
   ]
  },
  {
   "cell_type": "markdown",
   "id": "19ca09bb",
   "metadata": {},
   "source": [
    "Write a Python/NumPy code block that finds the distinct array items that exist in either array a or array b but which do not appear within both arrays:\n",
    "a = np.array([1, 2, 3, 2, 3, 4, 3, 4, 5, 6]) \n",
    "b = np.array([7, 2, 10, 2, 7, 4, 9, 4, 9, 8])\n",
    "For example, if a 2 is found in both array a and array b, your output should not include a 2. Furthermore, the content of the output should be comprised solely of unique data values."
   ]
  },
  {
   "cell_type": "code",
   "execution_count": 4,
   "id": "d53f7574",
   "metadata": {},
   "outputs": [],
   "source": [
    "a = np.array([1, 2, 3, 2, 3, 4, 3, 4, 5, 6]) \n",
    "b = np.array([7, 2, 10, 2, 7, 4, 9, 4, 9, 8])"
   ]
  },
  {
   "cell_type": "code",
   "execution_count": 5,
   "id": "bb3fe946",
   "metadata": {},
   "outputs": [
    {
     "name": "stdout",
     "output_type": "stream",
     "text": [
      "[ 1  3  5  6  7  8  9 10]\n"
     ]
    }
   ],
   "source": [
    "# Use the union1d method to find the unique elements in either array a or array b\n",
    "unique_elements = np.union1d(a, b)\n",
    "\n",
    "# Use the in1d method to find the elements that exist in both arrays\n",
    "duplicate_elements = np.intersect1d(a, b)\n",
    "\n",
    "# Use the setdiff1d method to find the unique elements in unique_elements that are not in duplicate_elements\n",
    "result1 = np.setdiff1d(unique_elements, duplicate_elements)\n",
    "\n",
    "print(result1)"
   ]
  },
  {
   "cell_type": "markdown",
   "id": "e1ade4dd",
   "metadata": {},
   "source": [
    "# Questions 2"
   ]
  },
  {
   "cell_type": "code",
   "execution_count": 6,
   "id": "6af79c59",
   "metadata": {},
   "outputs": [
    {
     "data": {
      "text/plain": [
       "array([[ 1,  5,  9, 13, 17],\n",
       "       [ 2,  6, 10, 14, 18],\n",
       "       [ 3,  7, 11, 15, 19],\n",
       "       [ 4,  8, 12, 16, 20]])"
      ]
     },
     "execution_count": 6,
     "metadata": {},
     "output_type": "execute_result"
    }
   ],
   "source": [
    "# set array from 1,2,3,4 and reshape as vertical array. \n",
    "start = np.arange(1,5).reshape(4, 1)\n",
    "# start stores in result2\n",
    "result2 = start\n",
    "# make each vertical array and stack \n",
    "for i in range(1, 5):\n",
    "    result2 = np.hstack((result2, start + 4 * i))\n",
    "    \n",
    "result2"
   ]
  },
  {
   "cell_type": "markdown",
   "id": "9d12e52a",
   "metadata": {},
   "source": [
    "- First, reshape the [1, 2, 3, 4] array vertically to the start array. Then, after creating an empty array called result2, start array + 4 * i arrays are stacked one by one."
   ]
  },
  {
   "cell_type": "markdown",
   "id": "6339888a",
   "metadata": {},
   "source": [
    "# Quetions 3"
   ]
  },
  {
   "cell_type": "code",
   "execution_count": 7,
   "id": "248229b5",
   "metadata": {},
   "outputs": [
    {
     "data": {
      "text/plain": [
       "array([12,  5,  7, 15,  3,  1,  8,  4,  6, 11, 14, 19])"
      ]
     },
     "execution_count": 7,
     "metadata": {},
     "output_type": "execute_result"
    }
   ],
   "source": [
    "a = np.array([12, 5, 7, 15, 3, 1, 8])\n",
    "b = np.array([14, 6, 3, 11, 19, 12, 5, 3, 4])\n",
    "\n",
    "c = np.setdiff1d(b, a)\n",
    "a = np.concatenate((a, c))\n",
    "\n",
    "a"
   ]
  },
  {
   "cell_type": "markdown",
   "id": "54cf81c9",
   "metadata": {},
   "source": [
    "- can use the Numpy library's Setdiff1d function to get the items in b that are not in a, and then use Numpy's Concatenate function to add these items to a:"
   ]
  },
  {
   "cell_type": "markdown",
   "id": "3d05a305",
   "metadata": {},
   "source": [
    "# Question 4"
   ]
  },
  {
   "cell_type": "code",
   "execution_count": 8,
   "id": "bd863c96",
   "metadata": {},
   "outputs": [
    {
     "data": {
      "text/plain": [
       "array([ 1,  5,  9, 13, 17,  2,  6, 10, 14, 18,  3,  7, 11, 15, 19,  4,  8,\n",
       "       12, 16, 20])"
      ]
     },
     "execution_count": 8,
     "metadata": {},
     "output_type": "execute_result"
    }
   ],
   "source": [
    "flattened_array = result2.ravel()\n",
    "flattened_array"
   ]
  },
  {
   "cell_type": "markdown",
   "id": "02339abf",
   "metadata": {},
   "source": [
    "- can use the Numpy library's Ravel function to flatten the array"
   ]
  },
  {
   "cell_type": "markdown",
   "id": "23825176",
   "metadata": {},
   "source": [
    "# Question 5"
   ]
  },
  {
   "cell_type": "code",
   "execution_count": null,
   "id": "2b0088b5",
   "metadata": {},
   "outputs": [],
   "source": []
  }
 ],
 "metadata": {
  "kernelspec": {
   "display_name": "Python 3 (ipykernel)",
   "language": "python",
   "name": "python3"
  },
  "language_info": {
   "codemirror_mode": {
    "name": "ipython",
    "version": 3
   },
   "file_extension": ".py",
   "mimetype": "text/x-python",
   "name": "python",
   "nbconvert_exporter": "python",
   "pygments_lexer": "ipython3",
   "version": "3.9.7"
  }
 },
 "nbformat": 4,
 "nbformat_minor": 5
}
